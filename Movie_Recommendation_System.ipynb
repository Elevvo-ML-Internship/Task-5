{
 "cells": [
  {
   "cell_type": "markdown",
   "id": "9bdf36fb",
   "metadata": {},
   "source": [
    "# Importing Libraries"
   ]
  },
  {
   "cell_type": "code",
   "execution_count": 52,
   "id": "add5fa0d",
   "metadata": {},
   "outputs": [],
   "source": [
    "import pandas as pd\n",
    "import numpy as np\n",
    "from sklearn.metrics.pairwise import cosine_similarity\n",
    "from sklearn.model_selection import train_test_split as sklearn_split\n",
    "from surprise.model_selection import train_test_split as surprise_split\n",
    "from surprise import Dataset, Reader, SVD\n",
    "from collections import defaultdict"
   ]
  },
  {
   "cell_type": "markdown",
   "id": "7bb606cf",
   "metadata": {},
   "source": [
    "# Load Data"
   ]
  },
  {
   "cell_type": "code",
   "execution_count": 53,
   "id": "da9f4df8",
   "metadata": {},
   "outputs": [],
   "source": [
    "ratings = pd.read_csv(\"ml-100k/u.data\", sep=\"\\t\", names=[\"user_id\", \"item_id\", \"rating\", \"timestamp\"])\n",
    "movies = pd.read_csv(\"ml-100k/u.item\", sep=\"|\", encoding=\"latin-1\", header=None, usecols=[0, 1], names=[\"item_id\", \"title\"])"
   ]
  },
  {
   "cell_type": "markdown",
   "id": "e10c32cd",
   "metadata": {},
   "source": [
    "# User-based Collaborative Filtering"
   ]
  },
  {
   "cell_type": "markdown",
   "id": "c8503969",
   "metadata": {},
   "source": [
    "## Train-Test Split (User-wise)"
   ]
  },
  {
   "cell_type": "code",
   "execution_count": 54,
   "id": "cad762c4",
   "metadata": {},
   "outputs": [],
   "source": [
    "def train_test_split_userwise(df, test_size=0.2):\n",
    "    train_list = []\n",
    "    test_list = []\n",
    "    for user_id, group in df.groupby(\"user_id\"):\n",
    "        if len(group) >= 5: # split if user rates 5 or more movies (to be meaningful)\n",
    "            train, test = sklearn_split(group, test_size=test_size, random_state=42)\n",
    "            train_list.append(train)\n",
    "            test_list.append(test)\n",
    "        else:\n",
    "            train_list.append(group)\n",
    "    return pd.concat(train_list), pd.concat(test_list) # combine all mini dataframes into one dataset"
   ]
  },
  {
   "cell_type": "markdown",
   "id": "4e1a3dbb",
   "metadata": {},
   "source": [
    "## Split data"
   ]
  },
  {
   "cell_type": "code",
   "execution_count": 55,
   "id": "682c681b",
   "metadata": {},
   "outputs": [],
   "source": [
    "ratings_train, ratings_test = train_test_split_userwise(ratings)"
   ]
  },
  {
   "cell_type": "markdown",
   "id": "f64965b2",
   "metadata": {},
   "source": [
    "## Build User-Item Matrix"
   ]
  },
  {
   "cell_type": "code",
   "execution_count": 56,
   "id": "a7edc2e9",
   "metadata": {},
   "outputs": [],
   "source": [
    "user_item_matrix = ratings_train.pivot_table(index='user_id', columns='item_id', values='rating')\n",
    "user_item_matrix_filled = user_item_matrix.fillna(0)"
   ]
  },
  {
   "cell_type": "markdown",
   "id": "7b794d4e",
   "metadata": {},
   "source": [
    "## Compute User-User Similarity"
   ]
  },
  {
   "cell_type": "code",
   "execution_count": 57,
   "id": "d9815bd4",
   "metadata": {},
   "outputs": [],
   "source": [
    "user_similarity = cosine_similarity(user_item_matrix_filled)\n",
    "user_similarity_df = pd.DataFrame(user_similarity, index=user_item_matrix.index, columns=user_item_matrix.index) # to make it easy to access and use, using .loc[user1, user2]"
   ]
  },
  {
   "cell_type": "markdown",
   "id": "444ad136",
   "metadata": {},
   "source": [
    "## Recommend Movies"
   ]
  },
  {
   "cell_type": "code",
   "execution_count": 58,
   "id": "180a40fb",
   "metadata": {},
   "outputs": [],
   "source": [
    "def recommend_movies(user_id, k=10, n_recommendations=5):\n",
    "\n",
    "    # get top-k similar users (removing the user)\n",
    "    similar_users = user_similarity_df[user_id].drop(user_id)\n",
    "    top_k_users = similar_users.sort_values(ascending=False).head(k)\n",
    "\n",
    "    # Compute weighted ratings from top-k users\n",
    "    top_k_ratings = user_item_matrix.loc[top_k_users.index]\n",
    "    weighted_ratings = top_k_ratings.T.dot(top_k_users) / top_k_users.sum()\n",
    "\n",
    "    # remove already watched movies\n",
    "    watched = user_item_matrix.loc[user_id].dropna().index # go to original user matrix which contains nulls (NOT THE FILLED ONE)\n",
    "    recommendations = weighted_ratings.drop(watched, errors='ignore').sort_values(ascending=False)\n",
    "\n",
    "    # return the top n recommended movie titles\n",
    "    top_items = recommendations.head(n_recommendations).index\n",
    "    return movies.set_index(\"item_id\").loc[top_items][[\"title\"]] # return titles of the movies and not the id\n"
   ]
  },
  {
   "cell_type": "markdown",
   "id": "905b0d09",
   "metadata": {},
   "source": [
    "## Precision@K Evaluation"
   ]
  },
  {
   "cell_type": "code",
   "execution_count": 59,
   "id": "13090395",
   "metadata": {},
   "outputs": [],
   "source": [
    "def precision_at_k(user_id, recommended_items, ratings_test, k=5):\n",
    "    actual_items = ratings_test[ratings_test[\"user_id\"] == user_id][\"item_id\"]\n",
    "    if actual_items.empty or recommended_items.empty:\n",
    "        return 0.0\n",
    "    predicted_items = recommended_items.index[:k]\n",
    "    return len(set(actual_items).intersection(predicted_items)) / k"
   ]
  },
  {
   "cell_type": "markdown",
   "id": "09dd89b7",
   "metadata": {},
   "source": [
    "## Example Run"
   ]
  },
  {
   "cell_type": "code",
   "execution_count": 60,
   "id": "4327b460",
   "metadata": {},
   "outputs": [
    {
     "name": "stdout",
     "output_type": "stream",
     "text": [
      "\n",
      "🎬 User 1 - Top 5 Recommendations:\n",
      "                              title\n",
      "item_id                            \n",
      "2                  GoldenEye (1995)\n",
      "4                 Get Shorty (1995)\n",
      "17       From Dusk Till Dawn (1996)\n",
      "23               Taxi Driver (1976)\n",
      "24       Rumble in the Bronx (1995)\n",
      "\n",
      "🎬 User 2 - Top 5 Recommendations:\n",
      "                     title\n",
      "item_id                   \n",
      "1         Toy Story (1995)\n",
      "2         GoldenEye (1995)\n",
      "3        Four Rooms (1995)\n",
      "4        Get Shorty (1995)\n",
      "5           Copycat (1995)\n",
      "\n",
      "🎬 User 3 - Top 5 Recommendations:\n",
      "                     title\n",
      "item_id                   \n",
      "1         Toy Story (1995)\n",
      "2         GoldenEye (1995)\n",
      "3        Four Rooms (1995)\n",
      "4        Get Shorty (1995)\n",
      "5           Copycat (1995)\n",
      "\n",
      "📊 Evaluated 943 users\n",
      "✅ Average Precision@5: 0.0579\n"
     ]
    }
   ],
   "source": [
    "precisions = []\n",
    "\n",
    "for user_id in ratings_test[\"user_id\"].unique():\n",
    "    recs = recommend_movies(user_id, k=20, n_recommendations=5)\n",
    "    if not recs.empty:\n",
    "        score = precision_at_k(user_id, recs, ratings_test, k=5)\n",
    "        precisions.append(score)\n",
    "        # print top 5 recommended movies for first 3 users as sample\n",
    "        if len(precisions) <= 3:\n",
    "            print(f\"\\n🎬 User {user_id} - Top 5 Recommendations:\")\n",
    "            print(recs)\n",
    "\n",
    "\n",
    "print(f\"\\n📊 Evaluated {len(precisions)} users\")\n",
    "print(f\"✅ Average Precision@5: {np.mean(precisions):.4f}\")"
   ]
  },
  {
   "cell_type": "markdown",
   "id": "718542f7",
   "metadata": {},
   "source": [
    "# Surprise: Matrix Factorization (SVD)"
   ]
  },
  {
   "cell_type": "markdown",
   "id": "fe741e27",
   "metadata": {},
   "source": [
    "## Convert to Surprise format"
   ]
  },
  {
   "cell_type": "code",
   "execution_count": 61,
   "id": "65189390",
   "metadata": {},
   "outputs": [],
   "source": [
    "reader = Reader(rating_scale=(1, 5))\n",
    "data = Dataset.load_from_df(ratings[[\"user_id\", \"item_id\", \"rating\"]], reader)"
   ]
  },
  {
   "cell_type": "markdown",
   "id": "4aa2bbab",
   "metadata": {},
   "source": [
    "## Split data using Surprise’s method"
   ]
  },
  {
   "cell_type": "code",
   "execution_count": 62,
   "id": "c6075767",
   "metadata": {},
   "outputs": [],
   "source": [
    "trainset, testset = surprise_split(data, test_size=0.2, random_state=42)"
   ]
  },
  {
   "cell_type": "markdown",
   "id": "e17b195e",
   "metadata": {},
   "source": [
    "## Train SVD and Predict"
   ]
  },
  {
   "cell_type": "code",
   "execution_count": 63,
   "id": "3a3e6106",
   "metadata": {},
   "outputs": [],
   "source": [
    "algo = SVD()\n",
    "algo.fit(trainset)\n",
    "predictions = algo.test(testset)"
   ]
  },
  {
   "cell_type": "markdown",
   "id": "dbf6b17d",
   "metadata": {},
   "source": [
    "## Format predictions into top-n per user"
   ]
  },
  {
   "cell_type": "code",
   "execution_count": 64,
   "id": "418ccc9f",
   "metadata": {},
   "outputs": [],
   "source": [
    "def get_top_n(predictions, n=5):\n",
    "    top_n = defaultdict(list)\n",
    "    for pred in predictions:\n",
    "        uid = pred.uid\n",
    "        iid = pred.iid\n",
    "        est = pred.est\n",
    "        top_n[uid].append((iid, est))\n",
    "    for uid, user_ratings in top_n.items():\n",
    "        user_ratings.sort(key=lambda x: x[1], reverse=True)\n",
    "        top_n[uid] = user_ratings[:n]\n",
    "    return top_n"
   ]
  },
  {
   "cell_type": "markdown",
   "id": "99719671",
   "metadata": {},
   "source": [
    "## Precision@K for Surprise SVD"
   ]
  },
  {
   "cell_type": "code",
   "execution_count": 65,
   "id": "4cc94f3e",
   "metadata": {},
   "outputs": [],
   "source": [
    "def precision_at_k_surprise(user_id, recs, testset, k=5):\n",
    "    actual = [iid for uid, iid, _ in testset if uid == user_id]\n",
    "    if not actual:\n",
    "        return 0.0\n",
    "    predicted = [iid for iid, _ in recs[:k]]\n",
    "    return len(set(actual) & set(predicted)) / k\n"
   ]
  },
  {
   "cell_type": "markdown",
   "id": "a61c6342",
   "metadata": {},
   "source": [
    "## Evaluate Surprise model\n"
   ]
  },
  {
   "cell_type": "code",
   "execution_count": 68,
   "id": "7dff1b3d",
   "metadata": {},
   "outputs": [
    {
     "name": "stdout",
     "output_type": "stream",
     "text": [
      "\n",
      "🎬 User 907 - Top 5 Recommendations (SVD):\n",
      " item_id                           title\n",
      "      79            Fugitive, The (1993)\n",
      "     143      Sound of Music, The (1965)\n",
      "     172 Empire Strikes Back, The (1980)\n",
      "     647                      Ran (1985)\n",
      "     813    Celluloid Closet, The (1995)\n",
      "\n",
      "🎬 User 371 - Top 5 Recommendations (SVD):\n",
      " item_id                                     title\n",
      "      55                  Professional, The (1994)\n",
      "      97                 Dances with Wolves (1990)\n",
      "     186                Blues Brothers, The (1980)\n",
      "     210 Indiana Jones and the Last Crusade (1989)\n",
      "     746                        Real Genius (1985)\n",
      "\n",
      "🎬 User 218 - Top 5 Recommendations (SVD):\n",
      " item_id                      title\n",
      "      12 Usual Suspects, The (1995)\n",
      "      42              Clerks (1994)\n",
      "     164          Abyss, The (1989)\n",
      "     209  This Is Spinal Tap (1984)\n",
      "     654           Chinatown (1974)\n",
      "\n",
      "🔍 Evaluated 940 users (SVD)\n",
      "🎯 Average Precision@5 (SVD): 0.9626\n"
     ]
    }
   ],
   "source": [
    "## Evaluate Surprise model\n",
    "svd_precisions = []\n",
    "for uid, recs in top_n.items():\n",
    "    svd_precisions.append(precision_at_k_surprise(uid, recs, testset, k=5))\n",
    "    # print top 5 recommended movies for first 3 users as sample\n",
    "    if len(svd_precisions) <= 3:\n",
    "        top_movie_ids = [iid for iid, _ in recs]\n",
    "        top_movie_titles = movies[movies[\"item_id\"].isin(top_movie_ids)][[\"item_id\", \"title\"]]\n",
    "        print(f\"\\n🎬 User {uid} - Top 5 Recommendations (SVD):\")\n",
    "        print(top_movie_titles.to_string(index=False))\n",
    "\n",
    "print(f\"\\n🔍 Evaluated {len(svd_precisions)} users (SVD)\")\n",
    "print(f\"🎯 Average Precision@5 (SVD): {np.mean(svd_precisions):.4f}\")"
   ]
  }
 ],
 "metadata": {
  "kernelspec": {
   "display_name": "Python (steam-ml-env)",
   "language": "python",
   "name": "steam-ml-env"
  },
  "language_info": {
   "codemirror_mode": {
    "name": "ipython",
    "version": 3
   },
   "file_extension": ".py",
   "mimetype": "text/x-python",
   "name": "python",
   "nbconvert_exporter": "python",
   "pygments_lexer": "ipython3",
   "version": "3.12.2"
  }
 },
 "nbformat": 4,
 "nbformat_minor": 5
}
